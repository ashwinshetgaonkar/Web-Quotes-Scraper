{
 "cells": [
  {
   "cell_type": "markdown",
   "id": "1d0c8b3e-48d0-4b56-9bb0-8245d70a8efd",
   "metadata": {},
   "source": [
    "# Web Scraping Project"
   ]
  },
  {
   "cell_type": "markdown",
   "id": "2493c12e-546c-46a5-a90b-474336c556ab",
   "metadata": {},
   "source": [
    "Objective:\n",
    "* To get the list of all quote topics from *https://www.brainyquote.com/topics* along with their respective urls.\n",
    "* To get the quotes from individual topics from their respective urls.\n",
    "* To make a webapp using Streamlit that allows the user to select a topic and then the program will display 10 random quotes by scraping the above mentioned site in real time."
   ]
  },
  {
   "cell_type": "markdown",
   "id": "f58c06d8-05ec-4bf5-a97d-bd7edeea5105",
   "metadata": {},
   "source": [
    "## Importing the necessary Libraries"
   ]
  },
  {
   "cell_type": "code",
   "execution_count": 1,
   "id": "e7cccb70-7bfa-46b0-b532-89e05cd2d45c",
   "metadata": {},
   "outputs": [],
   "source": [
    "import pandas as pd\n",
    "import numpy as np\n",
    "from bs4 import BeautifulSoup\n",
    "import requests\n",
    "import os"
   ]
  },
  {
   "cell_type": "markdown",
   "id": "0d61d30f-019b-4327-aa89-32198d92a11a",
   "metadata": {},
   "source": [
    "## Defining global constants"
   ]
  },
  {
   "cell_type": "code",
   "execution_count": 2,
   "id": "f6979b83-ec46-45ad-a643-c1ef7e979948",
   "metadata": {},
   "outputs": [],
   "source": [
    "site_url='https://www.brainyquote.com/topics'\n",
    "base_url='https://www.brainyquote.com'\n",
    "store_dir='files/'"
   ]
  },
  {
   "cell_type": "markdown",
   "id": "b973591d-c14a-445d-a513-db61182fd386",
   "metadata": {},
   "source": [
    "## Gettting the list of topics"
   ]
  },
  {
   "cell_type": "code",
   "execution_count": 3,
   "id": "75ee1851-6231-48ee-bbe6-ad169dc95cec",
   "metadata": {},
   "outputs": [],
   "source": [
    "response=requests.get(site_url)"
   ]
  },
  {
   "cell_type": "code",
   "execution_count": 4,
   "id": "7b4e6ea8-d13d-4cbe-a537-a696a903fae1",
   "metadata": {},
   "outputs": [
    {
     "data": {
      "text/plain": [
       "200"
      ]
     },
     "execution_count": 4,
     "metadata": {},
     "output_type": "execute_result"
    }
   ],
   "source": [
    "# check the status of the request \n",
    "response.status_code"
   ]
  },
  {
   "cell_type": "markdown",
   "id": "991b102c-99ea-432e-893e-54a006c00f32",
   "metadata": {},
   "source": [
    "**Inference:** Since the status_code is in the range [200,200] we are good to go(request was successfully accepted)."
   ]
  },
  {
   "cell_type": "markdown",
   "id": "26285fab-2935-44a2-a06b-c71df7ecfde3",
   "metadata": {},
   "source": [
    "### Parse the downloaded data using BeautifulSoup"
   ]
  },
  {
   "cell_type": "code",
   "execution_count": 5,
   "id": "7be4ecbb-ac28-4077-9aee-33c4d663bb0d",
   "metadata": {},
   "outputs": [],
   "source": [
    "soup=BeautifulSoup(response.text,'html.parser')"
   ]
  },
  {
   "cell_type": "code",
   "execution_count": 6,
   "id": "8eee1c99-fcd4-49f7-884a-def7a7844570",
   "metadata": {},
   "outputs": [
    {
     "data": {
      "text/plain": [
       "5"
      ]
     },
     "execution_count": 6,
     "metadata": {},
     "output_type": "execute_result"
    }
   ],
   "source": [
    "# check the length of the parsed data\n",
    "len(soup)"
   ]
  },
  {
   "cell_type": "markdown",
   "id": "d4bb78a0-ea36-4b58-a956-b01a70b1f8ed",
   "metadata": {},
   "source": [
    "### Extraing the necessary data from the parsed data"
   ]
  },
  {
   "cell_type": "code",
   "execution_count": 7,
   "id": "980db559-c880-44b4-9853-8c39d334b7df",
   "metadata": {},
   "outputs": [],
   "source": [
    "# extrating the section where list of topics is located\n",
    "topics_section_selection_class='row bq_left'\n",
    "topics_section=soup.find_all('div',{'class':topics_section_selection_class})"
   ]
  },
  {
   "cell_type": "code",
   "execution_count": 8,
   "id": "f0f05595-e5b4-47b3-9d42-0cdf20153ce1",
   "metadata": {},
   "outputs": [
    {
     "data": {
      "text/plain": [
       "1"
      ]
     },
     "execution_count": 8,
     "metadata": {},
     "output_type": "execute_result"
    }
   ],
   "source": [
    "# check the length of the topic_block_tags\n",
    "len(topics_section)"
   ]
  },
  {
   "cell_type": "code",
   "execution_count": 9,
   "id": "fb584837-f652-48d5-8397-81acb495e8fb",
   "metadata": {},
   "outputs": [],
   "source": [
    "# extracting the topic blocks\n",
    "topic_block_selection_class='bqLn'\n",
    "topic_blocks=topics_section[0].find_all('div',{'class':topic_block_selection_class})"
   ]
  },
  {
   "cell_type": "code",
   "execution_count": 10,
   "id": "4707da30-0b02-4323-addb-303e91e4e09d",
   "metadata": {},
   "outputs": [
    {
     "data": {
      "text/plain": [
       "250"
      ]
     },
     "execution_count": 10,
     "metadata": {},
     "output_type": "execute_result"
    }
   ],
   "source": [
    "# check the length of topic blocks\n",
    "len(topic_blocks)"
   ]
  },
  {
   "cell_type": "markdown",
   "id": "324d489c-c7a4-437c-a277-55d0a8d51f00",
   "metadata": {},
   "source": [
    "#### View an Individual topic_block element"
   ]
  },
  {
   "cell_type": "code",
   "execution_count": 11,
   "id": "8bbc7293-00dc-41de-be5c-2824b290fce0",
   "metadata": {},
   "outputs": [
    {
     "data": {
      "text/plain": [
       "<div class=\"bqLn\">\n",
       "<div class=\"bqLn\">\n",
       "<a class=\"topicIndexChicklet bq_on_link_cl\" data-xtracl=\"PT,Index,1\" href=\"/topics/age-quotes\"><span class=\"topicContentName\">Age</span>\n",
       "<span class=\"topicIndexArrow\"><img alt=\"Profession Detail\" class=\"bq-fa\" src=\"/st/img/4782095/fa/chv-r.svg\"/></span>\n",
       "<div style=\"clear:both\"></div></a>\n",
       "</div>\n",
       "</div>"
      ]
     },
     "execution_count": 11,
     "metadata": {},
     "output_type": "execute_result"
    }
   ],
   "source": [
    "topic_blocks[0]"
   ]
  },
  {
   "cell_type": "markdown",
   "id": "37f23dec-8a29-4945-a77c-5e5ca5e29a59",
   "metadata": {},
   "source": [
    "**Inference:** Although the `len(topic_blocks)` gives 250 as count of topics, the actual number of topics is half of it because of the repeated div tags."
   ]
  },
  {
   "cell_type": "markdown",
   "id": "e264a6a3-94e0-4e08-9fd7-1d314c11748d",
   "metadata": {},
   "source": [
    "#### Extracting data from individual topic_block element"
   ]
  },
  {
   "cell_type": "code",
   "execution_count": 12,
   "id": "f5275767-6460-4fcf-aa40-8e7571f94046",
   "metadata": {},
   "outputs": [
    {
     "data": {
      "text/plain": [
       "'Age'"
      ]
     },
     "execution_count": 12,
     "metadata": {},
     "output_type": "execute_result"
    }
   ],
   "source": [
    "# extract topic name\n",
    "topic_name_tag=topic_blocks[0].find('span',class_='topicContentName')\n",
    "topic_name_tag.text.strip()"
   ]
  },
  {
   "cell_type": "code",
   "execution_count": 13,
   "id": "23506485-709d-4622-b7b0-a286efb88be0",
   "metadata": {},
   "outputs": [
    {
     "data": {
      "text/plain": [
       "'https://www.brainyquote.com/topics/age-quotes'"
      ]
     },
     "execution_count": 13,
     "metadata": {},
     "output_type": "execute_result"
    }
   ],
   "source": [
    "#extract topic url\n",
    "topic_url_tag=topic_blocks[0].find('a',class_='topicIndexChicklet bq_on_link_cl')\n",
    "base_url+topic_url_tag['href']"
   ]
  },
  {
   "cell_type": "markdown",
   "id": "33c095b2-13a0-41c3-979c-931714ba4562",
   "metadata": {},
   "source": [
    "### Putting it altogether\n",
    "* Getting the topic name and url from all elements of the topic_block and storing the results in a dataframe."
   ]
  },
  {
   "cell_type": "code",
   "execution_count": 14,
   "id": "524a054d-4fc2-4132-b9f2-c351a206fb2c",
   "metadata": {},
   "outputs": [],
   "source": [
    "topics=[]\n",
    "for i in range(0,len(topic_blocks),2):\n",
    "    topic={}\n",
    "    # extract topic name\n",
    "    topic_name_tag=topic_blocks[i].find('span',class_='topicContentName')\n",
    "    topic['Topic Name']=topic_name_tag.text\n",
    "    \n",
    "    #extract topic url\n",
    "    topic_url_tag=topic_blocks[i].find('a',class_='topicIndexChicklet bq_on_link_cl')\n",
    "    topic['Topic URL']=base_url+topic_url_tag['href']\n",
    "    \n",
    "    topics.append(topic)"
   ]
  },
  {
   "cell_type": "markdown",
   "id": "8a4623b0-744a-4250-8714-1c608f844f72",
   "metadata": {},
   "source": [
    "#### Making a dataframe of topics and their respective urls"
   ]
  },
  {
   "cell_type": "code",
   "execution_count": 15,
   "id": "37566e7e-17b0-4b4f-ad82-d0e54d09cd08",
   "metadata": {},
   "outputs": [
    {
     "data": {
      "text/html": [
       "<div>\n",
       "<style scoped>\n",
       "    .dataframe tbody tr th:only-of-type {\n",
       "        vertical-align: middle;\n",
       "    }\n",
       "\n",
       "    .dataframe tbody tr th {\n",
       "        vertical-align: top;\n",
       "    }\n",
       "\n",
       "    .dataframe thead th {\n",
       "        text-align: right;\n",
       "    }\n",
       "</style>\n",
       "<table border=\"1\" class=\"dataframe\">\n",
       "  <thead>\n",
       "    <tr style=\"text-align: right;\">\n",
       "      <th></th>\n",
       "      <th>Topic Name</th>\n",
       "      <th>Topic URL</th>\n",
       "    </tr>\n",
       "  </thead>\n",
       "  <tbody>\n",
       "    <tr>\n",
       "      <th>0</th>\n",
       "      <td>Age</td>\n",
       "      <td>https://www.brainyquote.com/topics/age-quotes</td>\n",
       "    </tr>\n",
       "    <tr>\n",
       "      <th>1</th>\n",
       "      <td>Alone</td>\n",
       "      <td>https://www.brainyquote.com/topics/alone-quotes</td>\n",
       "    </tr>\n",
       "    <tr>\n",
       "      <th>2</th>\n",
       "      <td>Amazing</td>\n",
       "      <td>https://www.brainyquote.com/topics/amazing-quotes</td>\n",
       "    </tr>\n",
       "    <tr>\n",
       "      <th>3</th>\n",
       "      <td>Anger</td>\n",
       "      <td>https://www.brainyquote.com/topics/anger-quotes</td>\n",
       "    </tr>\n",
       "    <tr>\n",
       "      <th>4</th>\n",
       "      <td>Anniversary</td>\n",
       "      <td>https://www.brainyquote.com/topics/anniversary...</td>\n",
       "    </tr>\n",
       "  </tbody>\n",
       "</table>\n",
       "</div>"
      ],
      "text/plain": [
       "    Topic Name                                          Topic URL\n",
       "0          Age      https://www.brainyquote.com/topics/age-quotes\n",
       "1        Alone    https://www.brainyquote.com/topics/alone-quotes\n",
       "2      Amazing  https://www.brainyquote.com/topics/amazing-quotes\n",
       "3        Anger    https://www.brainyquote.com/topics/anger-quotes\n",
       "4  Anniversary  https://www.brainyquote.com/topics/anniversary..."
      ]
     },
     "execution_count": 15,
     "metadata": {},
     "output_type": "execute_result"
    }
   ],
   "source": [
    "topics_df=pd.DataFrame(topics)\n",
    "topics_df.head()"
   ]
  },
  {
   "cell_type": "code",
   "execution_count": 16,
   "id": "47034e52-a5cd-4836-ab07-a4c610ec12d2",
   "metadata": {},
   "outputs": [
    {
     "data": {
      "text/plain": [
       "(125, 2)"
      ]
     },
     "execution_count": 16,
     "metadata": {},
     "output_type": "execute_result"
    }
   ],
   "source": [
    "topics_df.shape"
   ]
  },
  {
   "cell_type": "code",
   "execution_count": 17,
   "id": "93ea832a-c8a6-4aba-a223-3ed4832bf509",
   "metadata": {},
   "outputs": [],
   "source": [
    "# make a folder named files to store the .csv files\n",
    "os.mkdir('files')"
   ]
  },
  {
   "cell_type": "code",
   "execution_count": 18,
   "id": "6179f1ac-5aaf-4e7c-86ab-3f69bc00e9ad",
   "metadata": {},
   "outputs": [],
   "source": [
    "# saving the topics_df into a .csv file\n",
    "topics_df.to_csv(store_dir+'topics.csv',index=None)"
   ]
  },
  {
   "cell_type": "markdown",
   "id": "0e69f7ef-0373-4568-96db-c730f70247ca",
   "metadata": {},
   "source": [
    "## Getting the quotes for an individual topic"
   ]
  },
  {
   "cell_type": "code",
   "execution_count": 19,
   "id": "4af9fccd-7557-42df-885d-bc38be951206",
   "metadata": {},
   "outputs": [
    {
     "data": {
      "text/plain": [
       "'https://www.brainyquote.com/topics/age-quotes'"
      ]
     },
     "execution_count": 19,
     "metadata": {},
     "output_type": "execute_result"
    }
   ],
   "source": [
    "topic_url=topics_df['Topic URL'][0]\n",
    "topic_url"
   ]
  },
  {
   "cell_type": "code",
   "execution_count": 20,
   "id": "a7fffe37-02ab-4671-adcf-0acc2adb46a4",
   "metadata": {},
   "outputs": [],
   "source": [
    "response=requests.get(topic_url)"
   ]
  },
  {
   "cell_type": "code",
   "execution_count": 21,
   "id": "e8021c5d-3436-444e-9770-aea2e212709a",
   "metadata": {},
   "outputs": [
    {
     "data": {
      "text/plain": [
       "200"
      ]
     },
     "execution_count": 21,
     "metadata": {},
     "output_type": "execute_result"
    }
   ],
   "source": [
    "# check the status of the request \n",
    "response.status_code"
   ]
  },
  {
   "cell_type": "markdown",
   "id": "6c2e76cd-cb32-4ebe-bc9e-68c792155260",
   "metadata": {},
   "source": [
    "### Parse the downloaded data using BeautifulSoup"
   ]
  },
  {
   "cell_type": "code",
   "execution_count": 22,
   "id": "38fa668f-595c-4087-8150-181eeefdf056",
   "metadata": {},
   "outputs": [],
   "source": [
    "soup=BeautifulSoup(response.text,'html.parser')"
   ]
  },
  {
   "cell_type": "code",
   "execution_count": 23,
   "id": "862339a7-6b81-4072-b9bb-c4bd92466e3c",
   "metadata": {},
   "outputs": [
    {
     "data": {
      "text/plain": [
       "7579"
      ]
     },
     "execution_count": 23,
     "metadata": {},
     "output_type": "execute_result"
    }
   ],
   "source": [
    "# check the length of the parsed data\n",
    "len(soup.text)"
   ]
  },
  {
   "cell_type": "code",
   "execution_count": 24,
   "id": "51381c30-2ef7-4150-a8fe-2e58c7063e28",
   "metadata": {},
   "outputs": [],
   "source": [
    "quotes_selection_class='grid-item qb clearfix bqQt'\n",
    "quotes_tags=soup.find_all('div',{'class':quotes_selection_class})"
   ]
  },
  {
   "cell_type": "code",
   "execution_count": 25,
   "id": "bdb5e3cd-bf47-4830-899e-a39048deed8e",
   "metadata": {},
   "outputs": [
    {
     "data": {
      "text/plain": [
       "60"
      ]
     },
     "execution_count": 25,
     "metadata": {},
     "output_type": "execute_result"
    }
   ],
   "source": [
    "# check the number of quotes\n",
    "len(quotes_tags)"
   ]
  },
  {
   "cell_type": "markdown",
   "id": "27cbc14f-3579-4039-bbbf-8c4d27e52f9b",
   "metadata": {},
   "source": [
    "### View an individual quote_tag"
   ]
  },
  {
   "cell_type": "code",
   "execution_count": 26,
   "id": "60b04959-ab3d-474c-a1c4-d2525d59a4dd",
   "metadata": {},
   "outputs": [
    {
     "data": {
      "text/plain": [
       "<div class=\"grid-item qb clearfix bqQt\" id=\"pos_1_1\">\n",
       "<a class=\"b-qt qt_103892 oncl_q\" href=\"/quotes/mark_twain_103892?src=t_age\" title=\"view quote\">\n",
       "<div style=\"display: flex;justify-content: space-between\">\n",
       "Age is an issue of mind over matter. If you don't mind, it doesn't matter.\n",
       "<img alt=\"Share this Quote\" class=\"bq-qb-chv\" src=\"/st/img/4785795/fa/chv-r.svg\"/>\n",
       "</div>\n",
       "</a>\n",
       "<a class=\"bq-aut qa_103892 oncl_a\" href=\"/authors/mark-twain-quotes\" title=\"view author\">Mark Twain</a>\n",
       "</div>"
      ]
     },
     "execution_count": 26,
     "metadata": {},
     "output_type": "execute_result"
    }
   ],
   "source": [
    "quotes_tags[0]"
   ]
  },
  {
   "cell_type": "markdown",
   "id": "b10121dc-33b6-4f65-af6f-50d8beb1c570",
   "metadata": {},
   "source": [
    "#### Extract the necessary data from the parsed data"
   ]
  },
  {
   "cell_type": "code",
   "execution_count": 27,
   "id": "8f4585ac-52b5-43e9-af98-018c70d57707",
   "metadata": {},
   "outputs": [
    {
     "data": {
      "text/plain": [
       "\"Age is an issue of mind over matter. If you don't mind, it doesn't matter.\""
      ]
     },
     "execution_count": 27,
     "metadata": {},
     "output_type": "execute_result"
    }
   ],
   "source": [
    "#extract the quote \n",
    "quote=quotes_tags[0].find('a',class_='b-qt')\n",
    "quote.text.strip()"
   ]
  },
  {
   "cell_type": "code",
   "execution_count": 28,
   "id": "0f59e3a2-f46b-456d-8013-824efa594b3d",
   "metadata": {},
   "outputs": [
    {
     "data": {
      "text/plain": [
       "'Mark Twain'"
      ]
     },
     "execution_count": 28,
     "metadata": {},
     "output_type": "execute_result"
    }
   ],
   "source": [
    "# extract the author name\n",
    "author=quotes_tags[0].find('a',class_='bq-aut')\n",
    "author.text.strip()"
   ]
  },
  {
   "cell_type": "markdown",
   "id": "09d95832-d5bd-42ba-95b0-700437c2fde1",
   "metadata": {},
   "source": [
    "### Putting it altogether\n",
    "* Getting all the quotes along with the author name for an individual topic and storing it in a dataframe."
   ]
  },
  {
   "cell_type": "code",
   "execution_count": 29,
   "id": "9f8de27a-471b-44bd-b6ce-b35356033520",
   "metadata": {},
   "outputs": [],
   "source": [
    "quotes=[]\n",
    "for i in range(len(quotes_tags)):\n",
    "\n",
    "    quote={}\n",
    "    #extract the quote \n",
    "    # print(i)\n",
    "    quote_tag=quotes_tags[i].find('a',class_='b-qt')\n",
    "    quote['Quote']=quote_tag.text.strip()\n",
    "    # extract the author\n",
    "    author=quotes_tags[i].find('a',class_='bq-aut')\n",
    "    quote['Author']=author.text.strip()\n",
    "    \n",
    "    quotes.append(quote)"
   ]
  },
  {
   "cell_type": "markdown",
   "id": "48724543-cdf3-4a16-b87b-8c4ef708bef9",
   "metadata": {},
   "source": [
    "#### Making a dataframe of quotes along with its author name for an individual topic"
   ]
  },
  {
   "cell_type": "code",
   "execution_count": 30,
   "id": "73e68207-5ac2-40ca-b34c-093cae06ba2e",
   "metadata": {},
   "outputs": [
    {
     "data": {
      "text/html": [
       "<div>\n",
       "<style scoped>\n",
       "    .dataframe tbody tr th:only-of-type {\n",
       "        vertical-align: middle;\n",
       "    }\n",
       "\n",
       "    .dataframe tbody tr th {\n",
       "        vertical-align: top;\n",
       "    }\n",
       "\n",
       "    .dataframe thead th {\n",
       "        text-align: right;\n",
       "    }\n",
       "</style>\n",
       "<table border=\"1\" class=\"dataframe\">\n",
       "  <thead>\n",
       "    <tr style=\"text-align: right;\">\n",
       "      <th></th>\n",
       "      <th>Quote</th>\n",
       "      <th>Author</th>\n",
       "    </tr>\n",
       "  </thead>\n",
       "  <tbody>\n",
       "    <tr>\n",
       "      <th>0</th>\n",
       "      <td>Age is an issue of mind over matter. If you do...</td>\n",
       "      <td>Mark Twain</td>\n",
       "    </tr>\n",
       "    <tr>\n",
       "      <th>1</th>\n",
       "      <td>Anyone who stops learning is old, whether at t...</td>\n",
       "      <td>Henry Ford</td>\n",
       "    </tr>\n",
       "    <tr>\n",
       "      <th>2</th>\n",
       "      <td>You can't help getting older, but you don't ha...</td>\n",
       "      <td>George Burns</td>\n",
       "    </tr>\n",
       "    <tr>\n",
       "      <th>3</th>\n",
       "      <td>Youth is the gift of nature, but age is a work...</td>\n",
       "      <td>Stanislaw Jerzy Lec</td>\n",
       "    </tr>\n",
       "    <tr>\n",
       "      <th>4</th>\n",
       "      <td>Forty is the old age of youth; fifty the youth...</td>\n",
       "      <td>Victor Hugo</td>\n",
       "    </tr>\n",
       "  </tbody>\n",
       "</table>\n",
       "</div>"
      ],
      "text/plain": [
       "                                               Quote               Author\n",
       "0  Age is an issue of mind over matter. If you do...           Mark Twain\n",
       "1  Anyone who stops learning is old, whether at t...           Henry Ford\n",
       "2  You can't help getting older, but you don't ha...         George Burns\n",
       "3  Youth is the gift of nature, but age is a work...  Stanislaw Jerzy Lec\n",
       "4  Forty is the old age of youth; fifty the youth...          Victor Hugo"
      ]
     },
     "execution_count": 30,
     "metadata": {},
     "output_type": "execute_result"
    }
   ],
   "source": [
    "quotes_df=pd.DataFrame(quotes)\n",
    "quotes_df.head()"
   ]
  },
  {
   "cell_type": "code",
   "execution_count": 31,
   "id": "997e655c-026f-49c0-ab17-e7bd0f4b0f20",
   "metadata": {},
   "outputs": [
    {
     "data": {
      "text/plain": [
       "(60, 2)"
      ]
     },
     "execution_count": 31,
     "metadata": {},
     "output_type": "execute_result"
    }
   ],
   "source": [
    "quotes_df.shape"
   ]
  },
  {
   "cell_type": "markdown",
   "id": "5cdcad5c-fcd4-4311-a6ce-d5bc690bf1b2",
   "metadata": {},
   "source": [
    "## Getting the quotes for all the topics\n",
    "* Storing the quotes of individual topics in seperate .csv files."
   ]
  },
  {
   "cell_type": "code",
   "execution_count": 32,
   "id": "4a638c32-8a34-4f83-835a-5ba27d6f2966",
   "metadata": {},
   "outputs": [
    {
     "name": "stdout",
     "output_type": "stream",
     "text": [
      "Scraping topic Age\n",
      "Scraping topic Alone\n",
      "Scraping topic Amazing\n",
      "Scraping topic Anger\n",
      "Scraping topic Anniversary\n",
      "Scraping topic Architecture\n",
      "Scraping topic Art\n",
      "Scraping topic Attitude\n",
      "Scraping topic Beauty\n",
      "Scraping topic Best\n",
      "Scraping topic Birthday\n",
      "Scraping topic Brainy\n",
      "Scraping topic Business\n",
      "Scraping topic Car\n",
      "Scraping topic Chance\n",
      "Scraping topic Change\n",
      "Scraping topic Christmas\n",
      "Scraping topic Communication\n",
      "Scraping topic Computers\n",
      "Scraping topic Cool\n",
      "Scraping topic Courage\n",
      "Scraping topic Dad\n",
      "Scraping topic Dating\n",
      "Scraping topic Death\n",
      "Scraping topic Design\n",
      "Scraping topic Diet\n",
      "Scraping topic Dreams\n",
      "Scraping topic Easter\n",
      "Scraping topic Education\n",
      "Scraping topic Environmental\n",
      "Scraping topic Equality\n",
      "Scraping topic Experience\n",
      "Scraping topic Experience\n",
      "Scraping topic Failure\n",
      "Scraping topic Faith\n",
      "Scraping topic Family\n",
      "Scraping topic Famous\n",
      "Scraping topic Father's Day\n",
      "Scraping topic Fear\n",
      "Scraping topic Finance\n",
      "Scraping topic Fitness\n",
      "Scraping topic Food\n",
      "Scraping topic Forgiveness\n",
      "Scraping topic Freedom\n",
      "Scraping topic Friendship\n",
      "Scraping topic Funny\n",
      "Scraping topic Future\n",
      "Scraping topic Gardening\n",
      "Scraping topic God\n",
      "Scraping topic Good\n",
      "Scraping topic Government\n",
      "Scraping topic Graduation\n",
      "Scraping topic Great\n",
      "Scraping topic Happiness\n",
      "Scraping topic Health\n",
      "Scraping topic History\n",
      "Scraping topic Home\n",
      "Scraping topic Hope\n",
      "Scraping topic Humor\n",
      "Scraping topic Imagination\n",
      "Scraping topic Independence\n",
      "Scraping topic Inspirational\n",
      "Scraping topic Intelligence\n",
      "Scraping topic Jealousy\n",
      "Scraping topic Jealousy\n",
      "Scraping topic Knowledge\n",
      "Scraping topic Leadership\n",
      "Scraping topic Learning\n",
      "Scraping topic Legal\n",
      "Scraping topic Life\n",
      "Scraping topic Love\n",
      "Scraping topic Marriage\n",
      "Scraping topic Medical\n",
      "Scraping topic Memorial Day\n",
      "Scraping topic Men\n",
      "Scraping topic Mom\n",
      "Scraping topic Money\n",
      "Scraping topic Morning\n",
      "Scraping topic Mother's Day\n",
      "Scraping topic Motivational\n",
      "Scraping topic Movies\n",
      "Scraping topic Moving On\n",
      "Scraping topic Music\n",
      "Scraping topic Nature\n",
      "Scraping topic New Year's\n",
      "Scraping topic Parenting\n",
      "Scraping topic Patience\n",
      "Scraping topic Patriotism\n",
      "Scraping topic Peace\n",
      "Scraping topic Pet\n",
      "Scraping topic Poetry\n",
      "Scraping topic Politics\n",
      "Scraping topic Positive\n",
      "Scraping topic Power\n",
      "Scraping topic Relationship\n",
      "Scraping topic Religion\n",
      "Scraping topic Religion\n",
      "Scraping topic Respect\n",
      "Scraping topic Romantic\n",
      "Scraping topic Sad\n",
      "Scraping topic Saint Patrick's Day\n",
      "Scraping topic Science\n",
      "Scraping topic Smile\n",
      "Scraping topic Society\n",
      "Scraping topic Space\n",
      "Scraping topic Sports\n",
      "Scraping topic Strength\n",
      "Scraping topic Success\n",
      "Scraping topic Sympathy\n",
      "Scraping topic Teacher\n",
      "Scraping topic Technology\n",
      "Scraping topic Teen\n",
      "Scraping topic Thankful\n",
      "Scraping topic Thanksgiving\n",
      "Scraping topic Time\n",
      "Scraping topic Travel\n",
      "Scraping topic Trust\n",
      "Scraping topic Truth\n",
      "Scraping topic Valentine's Day\n",
      "Scraping topic Veterans Day\n",
      "Scraping topic War\n",
      "Scraping topic Wedding\n",
      "Scraping topic Wisdom\n",
      "Scraping topic Women\n",
      "Scraping topic Work\n"
     ]
    }
   ],
   "source": [
    "\n",
    "for row in topics_df.itertuples():\n",
    "    _,topic_name,topic_url=row\n",
    "    # print(topic_name,\"     \",topic_url)\n",
    "    print(f'Scraping topic {topic_name}')\n",
    "    response=requests.get(topic_url)\n",
    "    status_code=response.status_code\n",
    "    if status_code<200 and status_code> 199:\n",
    "        continue\n",
    "    soup=BeautifulSoup(response.text,'html.parser')\n",
    "    quotes_selection_class='grid-item qb clearfix bqQt'\n",
    "    quotes_tags=soup.find_all('div',{'class':quotes_selection_class})\n",
    "    quotes=[]\n",
    "    for i in range(len(quotes_tags)):\n",
    "\n",
    "        quote={}\n",
    "        #extract the quote \n",
    "        # print(i)\n",
    "        quote_tag=quotes_tags[i].find('a',class_='b-qt')\n",
    "        quote['Quote']=quote_tag.text.strip()\n",
    "        # extract the author\n",
    "        author=quotes_tags[i].find('a',class_='bq-aut')\n",
    "        quote['Author']=author.text.strip()\n",
    "\n",
    "        quotes.append(quote)\n",
    "    quotes_df=pd.DataFrame(quotes)\n",
    "    file_name=store_dir+topic_name+'.csv'\n",
    "    quotes_df.to_csv(file_name,index=None)"
   ]
  },
  {
   "cell_type": "markdown",
   "id": "ae9df243-417c-46df-ba15-3887a453948e",
   "metadata": {},
   "source": [
    "**Note:** The first two objectives of my project are completed the third one will be done in a seperate `app.py` file."
   ]
  }
 ],
 "metadata": {
  "kernelspec": {
   "display_name": "default:Python",
   "language": "python",
   "name": "conda-env-default-py"
  },
  "language_info": {
   "codemirror_mode": {
    "name": "ipython",
    "version": 3
   },
   "file_extension": ".py",
   "mimetype": "text/x-python",
   "name": "python",
   "nbconvert_exporter": "python",
   "pygments_lexer": "ipython3",
   "version": "3.9.7"
  },
  "toc-autonumbering": false,
  "toc-showmarkdowntxt": false
 },
 "nbformat": 4,
 "nbformat_minor": 5
}
